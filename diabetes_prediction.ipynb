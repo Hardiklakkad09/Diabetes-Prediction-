{
 "cells": [
  {
   "cell_type": "code",
   "execution_count": 67,
   "metadata": {},
   "outputs": [],
   "source": [
    "## import the necessary libraries\n",
    "import pandas as pd\n",
    "import numpy as np\n",
    "import matplotlib.pyplot as plt\n",
    "import seaborn as sns\n",
    "\n",
    "from sklearn.model_selection import train_test_split\n",
    "from sklearn.preprocessing import StandardScaler\n",
    "from sklearn.ensemble import GradientBoostingClassifier\n",
    "from sklearn.metrics import confusion_matrix, ConfusionMatrixDisplay, roc_auc_score, roc_curve, classification_report\n",
    "\n",
    "## neural network library\n",
    "from keras.models import Sequential\n",
    "from keras.layers import Dense, Dropout\n",
    "from mlxtend.plotting import plot_confusion_matrix\n",
    "import pickle"
   ]
  },
  {
   "cell_type": "code",
   "execution_count": null,
   "metadata": {},
   "outputs": [],
   "source": [
    "## Load the dataset\n",
    "data = pd.read_csv('diabetes.csv')\n",
    "data.head(5)"
   ]
  },
  {
   "cell_type": "code",
   "execution_count": null,
   "metadata": {},
   "outputs": [],
   "source": [
    "## Check for missing values\n",
    "\n",
    "missing_values = data.isnull().sum()\n",
    "missing_values"
   ]
  },
  {
   "cell_type": "code",
   "execution_count": null,
   "metadata": {},
   "outputs": [],
   "source": [
    "## check discriptive statistics vlaues\n",
    "\n",
    "data.describe() "
   ]
  },
  {
   "cell_type": "code",
   "execution_count": null,
   "metadata": {},
   "outputs": [],
   "source": [
    "## Here we plot a heatmap to visualize the correlation between features\n",
    "corr = data.corr()\n",
    "fig, ax = plt.subplots(figsize=(15, 10)) \n",
    "sns.heatmap(corr, annot=True, square=False, ax = ax , cmap = 'coolwarm')\n",
    "plt.title('Correlation between features')\n",
    "plt.tight_layout()\n",
    "plt.show()"
   ]
  },
  {
   "cell_type": "code",
   "execution_count": null,
   "metadata": {},
   "outputs": [],
   "source": [
    "## we plot histograms to check the distribution of the features\n",
    "data.hist(figsize=(15, 10))\n",
    "plt.show()  "
   ]
  },
  {
   "cell_type": "code",
   "execution_count": null,
   "metadata": {},
   "outputs": [],
   "source": [
    "## follow-up blood Pressure distribution in population of Diabetes and Non-Diabetes patients\n",
    "plt.figure(figsize=(16, 8))\n",
    "ax = sns.histplot(data['BloodPressure'][data.Outcome == 0], kde = True, color='blue'), sns.histplot(data['BloodPressure'][data.Outcome == 1], kde = True, color='red')\n",
    "plt.legend(['Non_Diabetes', 'Diabetes'])\n",
    "plt.title('Blood Pressure distribution in Diabetes and Non-Diabetes patients')\n",
    "plt.show()"
   ]
  },
  {
   "cell_type": "code",
   "execution_count": null,
   "metadata": {},
   "outputs": [],
   "source": [
    "## follow-up Age distribution in population of Diabetes and Non-Diabetes patients\n",
    "\n",
    "plt.figure(figsize=(16, 8))\n",
    "ax = sns.histplot(data['Age'][data.Outcome == 0], kde = True, color='blue'), sns.histplot(data['Age'][data.Outcome == 1], kde = True, color='red')\n",
    "plt.legend(['Non_Diabetes', 'Diabetes'])\n",
    "plt.title('Age distribution in Diabetes and Non-Diabetes patients')\n",
    "plt.show()"
   ]
  },
  {
   "cell_type": "code",
   "execution_count": null,
   "metadata": {},
   "outputs": [],
   "source": [
    "##flow-up Glucose distribution in population of Diabetes and Non-Diabetes patients\n",
    "\n",
    "plt.figure(figsize=(16, 8))\n",
    "ax = sns.histplot(data['Glucose'][data.Outcome == 0], kde = True, color='blue'), sns.histplot(data['Glucose'][data.Outcome == 1], kde = True, color='red')\n",
    "plt.legend(['Non_Diabetes', 'Diabetes'])\n",
    "plt.title('Glucose distribution in Diabetes and Non-Diabetes patients')\n",
    "plt.show()"
   ]
  },
  {
   "cell_type": "code",
   "execution_count": null,
   "metadata": {},
   "outputs": [],
   "source": [
    "## follow-up BMI distribution in population of Diabetes and Non-Diabetes patients\n",
    "\n",
    "plt.figure(figsize=(16, 8))\n",
    "ax = sns.histplot(data['BMI'][data.Outcome == 0], kde = True, color='blue'), sns.histplot(data['BMI'][data.Outcome == 1], kde = True, color='red')\n",
    "plt.legend(['Non_Diabetes', 'Diabetes'])\n",
    "plt.title('BMI distribution in Diabetes and Non-Diabetes patients')\n",
    "plt.show()\n"
   ]
  },
  {
   "cell_type": "code",
   "execution_count": 38,
   "metadata": {},
   "outputs": [],
   "source": [
    "##  defining the feature and target parameters\n",
    "\n",
    "X = data.drop('Outcome', axis=1)\n",
    "y = data['Outcome']"
   ]
  },
  {
   "cell_type": "code",
   "execution_count": 41,
   "metadata": {},
   "outputs": [],
   "source": [
    "## Scale up the data for prediction model\n",
    "\n",
    "scaler = StandardScaler()\n",
    "X_scaled = scaler.fit_transform(X)\n"
   ]
  },
  {
   "cell_type": "code",
   "execution_count": 42,
   "metadata": {},
   "outputs": [],
   "source": [
    "## Split the data into training and testing sets\n",
    "\n",
    "X_train, X_test, y_train, y_test = train_test_split(X_scaled, y, test_size=0.2, random_state=42)"
   ]
  },
  {
   "cell_type": "code",
   "execution_count": null,
   "metadata": {},
   "outputs": [],
   "source": [
    "## train the model\n",
    "\n",
    "model = GradientBoostingClassifier()\n",
    "model.fit(X_train, y_train)\n",
    "## evaluate the model and predict \n",
    "\n",
    "y_pred = model.predict(X_test)\n",
    "accuracy = model.score(X_test, y_test)\n",
    "accuracy\n"
   ]
  },
  {
   "cell_type": "code",
   "execution_count": null,
   "metadata": {},
   "outputs": [],
   "source": [
    "# Assuming y_test and y_pred are defined\n",
    "cm = confusion_matrix(y_test, y_pred)\n",
    "\n",
    "# Option 2: Using Seaborn's heatmap\n",
    "plt.figure(figsize=(6, 5))\n",
    "sns.heatmap(cm, annot=True, fmt='d', cmap='Blues', xticklabels=['Non-Diabetes', 'Diabetes'], yticklabels=['Non-Diabetes', 'Diabetes'])\n",
    "plt.xlabel('Predicted Labels')\n",
    "plt.ylabel('True Labels')\n",
    "plt.title('Confusion Matrix of Gradient Boosting Classifier')\n",
    "plt.show()\n"
   ]
  },
  {
   "cell_type": "code",
   "execution_count": null,
   "metadata": {},
   "outputs": [],
   "source": [
    "# Compute ROC-AUC Score\n",
    "\n",
    "roc_auc = roc_auc_score(y_test, y_pred)\n",
    "fpr, tpr, thresholds = roc_curve(y_test, y_pred)\n",
    "\n",
    "# Plot ROC-AUC Curve\n",
    "\n",
    "plt.figure(figsize=(6, 5))\n",
    "plt.plot(fpr, tpr, color='darkorange', lw=2, label='ROC curve (area = %0.2f)' % roc_auc)\n",
    "plt.plot([0, 1], [0, 1], color='navy', lw=2, linestyle='--')\n",
    "plt.legend(loc='upper left')\n",
    "plt.title('Receiver Operating Characteristic (ROC) Curve for GBC')"
   ]
  },
  {
   "cell_type": "code",
   "execution_count": null,
   "metadata": {},
   "outputs": [],
   "source": [
    "print(classification_report(y_pred, y_test))"
   ]
  },
  {
   "cell_type": "code",
   "execution_count": null,
   "metadata": {},
   "outputs": [],
   "source": [
    "## Build Neural Network for dataset\n",
    "## initialise the network   \n",
    "model = Sequential()\n",
    "\n",
    "# add the input with 64 neurons and an input shape of 10\n",
    "model.add(Dense(units=36, input_dim=8, kernel_initializer='uniform', activation='relu'))\n",
    "# add h1 hidden layer with 16 neurons\n",
    "model.add(Dense(18, activation='relu',  kernel_initializer='uniform'))\n",
    "# regularization to prevent overfitting\n",
    "model.add(Dropout(0.4))\n",
    "# add h2 hidden layer with 8 neurons \n",
    "model.add(Dense(6, activation='relu', kernel_initializer='uniform'))\n",
    "# regularization to prevent overfitting\n",
    "model.add(Dropout(0.2))\n",
    "# add output layer with 1 neuron and sigmoid activation function\n",
    "model.add(Dense(1, kernel_initializer='uniform', activation='sigmoid'))\n",
    "\n",
    "# compile the model\n",
    "\n",
    "model.compile(optimizer='adam', loss='binary_crossentropy', metrics=['accuracy'])\n",
    "\n",
    "# fit the model\n",
    "\n",
    "history = model.fit(X_train, y_train, epochs=100, batch_size=32, validation_data= (X_test, y_test))\n",
    "\n",
    "\n"
   ]
  },
  {
   "cell_type": "code",
   "execution_count": null,
   "metadata": {},
   "outputs": [],
   "source": [
    "## val_accuracy\n",
    "\n",
    "val_accuracy = history.history['val_accuracy']\n",
    "accuracy = history.history['accuracy']\n",
    "\n",
    "# print accuracy\n",
    "\n",
    "print('Train Accuracy:', accuracy[-1])\n",
    "print('Validation Accuracy:', val_accuracy[-1])"
   ]
  },
  {
   "cell_type": "code",
   "execution_count": null,
   "metadata": {},
   "outputs": [],
   "source": [
    "# plot the training and validation accuracy\n",
    "plt.plot(accuracy)\n",
    "plt.plot(val_accuracy)\n",
    "plt.title('Training and Validation Accuracy')\n",
    "plt.legend(['Training Accuracy', 'Validation Accuracy'], loc='best')\n",
    "plt.ylabel('Accuracy')\n",
    "plt.xlabel('Epoch')"
   ]
  },
  {
   "cell_type": "code",
   "execution_count": null,
   "metadata": {},
   "outputs": [],
   "source": [
    "history_df = pd.DataFrame(history.history)\n",
    "\n",
    "plt.plot(history_df.loc[:, ['loss']], label='Training loss')\n",
    "plt.plot(history_df.loc[:, ['val_loss']], label='Validation loss')\n",
    "plt.title('Training and Validation loss')\n",
    "plt.xlabel('Epochs')\n",
    "plt.ylabel('Loss')\n",
    "plt.legend(loc=\"best\")"
   ]
  },
  {
   "cell_type": "code",
   "execution_count": null,
   "metadata": {},
   "outputs": [],
   "source": [
    "# predict the test set results\n",
    "y_pred_nn = model.predict(X_test)\n",
    "y_pred = (y_pred_nn > 0.5)\n",
    "np.set_printoptions()"
   ]
  },
  {
   "cell_type": "code",
   "execution_count": null,
   "metadata": {},
   "outputs": [],
   "source": [
    "## compute ROC-AUC Score and plot for Neural Network\n",
    "\n",
    "roc_auc_nn = roc_auc_score(y_test, y_pred_nn)\n",
    "fpr_nn, tpr_nn, thresholds_nn = roc_curve(y_test, y_pred_nn)\n",
    "\n",
    "# Plot ROC-AUC Curve\n",
    "\n",
    "plt.figure(figsize=(6, 5))\n",
    "plt.plot(fpr_nn, tpr_nn, color='darkorange', lw=2, label='ROC curve (area = %0.2f)' % roc_auc_nn)\n",
    "plt.plot([0, 1], [0, 1], color='navy', lw=2, linestyle='--')\n",
    "plt.legend(loc='upper left')\n",
    "plt.title('Receiver Operating Characteristic (ROC) Curve for Neural Network')\n",
    "\n",
    "plt.show()"
   ]
  },
  {
   "cell_type": "code",
   "execution_count": null,
   "metadata": {},
   "outputs": [],
   "source": [
    "## Confusion Matrix for Neural Network\n",
    "\n",
    "cm_nn = confusion_matrix(y_test, y_pred)\n",
    "\n",
    "# Option 2: Using Seaborn's heatmap\n",
    "\n",
    "plt.figure(figsize=(6, 5))\n",
    "sns.heatmap(cm_nn, annot=True, fmt='d', cmap='Blues', xticklabels=['Non-Diabetes', 'Diabetes'], yticklabels=['Non-Diabetes', 'Diabetes'])\n",
    "plt.xlabel('Predicted Labels')\n",
    "plt.ylabel('True Labels')\n",
    "plt.title('Confusion Matrix of Neural Network')\n",
    "\n",
    "plt.show()  \n",
    "\n"
   ]
  },
  {
   "cell_type": "code",
   "execution_count": null,
   "metadata": {},
   "outputs": [],
   "source": [
    "## classification report for Neural Network\n",
    "\n",
    "print(classification_report(y_test, y_pred))"
   ]
  },
  {
   "cell_type": "code",
   "execution_count": null,
   "metadata": {},
   "outputs": [],
   "source": []
  }
 ],
 "metadata": {
  "kernelspec": {
   "display_name": "base",
   "language": "python",
   "name": "python3"
  },
  "language_info": {
   "codemirror_mode": {
    "name": "ipython",
    "version": 3
   },
   "file_extension": ".py",
   "mimetype": "text/x-python",
   "name": "python",
   "nbconvert_exporter": "python",
   "pygments_lexer": "ipython3",
   "version": "3.11.7"
  }
 },
 "nbformat": 4,
 "nbformat_minor": 2
}
